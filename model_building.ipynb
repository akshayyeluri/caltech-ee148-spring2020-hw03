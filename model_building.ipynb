{
 "cells": [
  {
   "cell_type": "markdown",
   "metadata": {},
   "source": [
    "# Finding a good CNN for MNIST"
   ]
  },
  {
   "cell_type": "code",
   "execution_count": 1,
   "metadata": {},
   "outputs": [
    {
     "data": {
      "text/plain": [
       "<torch._C.Generator at 0x7fa82000cb28>"
      ]
     },
     "execution_count": 1,
     "metadata": {},
     "output_type": "execute_result"
    }
   ],
   "source": [
    "import numpy as np\n",
    "import matplotlib.pyplot as plt\n",
    "%matplotlib inline\n",
    "\n",
    "import torch\n",
    "import torchvision\n",
    "import torch.nn as nn\n",
    "import torch.optim as optim\n",
    "import torchvision.transforms as transforms\n",
    "\n",
    "np.random.seed(0)\n",
    "torch.manual_seed(0)"
   ]
  },
  {
   "cell_type": "markdown",
   "metadata": {},
   "source": [
    "## Get the data"
   ]
  },
  {
   "cell_type": "code",
   "execution_count": 3,
   "metadata": {},
   "outputs": [],
   "source": [
    "# set batch size\n",
    "batch_size = 32\n",
    "\n",
    "# load training data downloaded into data/ folder\n",
    "mnist_training_data = torchvision.datasets.MNIST('../data', train=True, download=True,\n",
    "                                                transform=transforms.ToTensor())\n",
    "# transforms.ToTensor() converts batch of images to 4-D tensor and normalizes 0-255 to 0-1.0\n",
    "training_data_loader = torch.utils.data.DataLoader(mnist_training_data,\n",
    "                                                  batch_size=batch_size,\n",
    "                                                  shuffle=True)\n",
    "\n",
    "# load test data\n",
    "mnist_test_data = torchvision.datasets.MNIST('../data', train=False, download=True,\n",
    "                                                transform=transforms.ToTensor())\n",
    "test_data_loader = torch.utils.data.DataLoader(mnist_test_data,\n",
    "                                                  batch_size=batch_size,\n",
    "                                                  shuffle=False)"
   ]
  },
  {
   "cell_type": "markdown",
   "metadata": {},
   "source": [
    "## Helper Functions"
   ]
  },
  {
   "cell_type": "code",
   "execution_count": null,
   "metadata": {},
   "outputs": [],
   "source": [
    "def nParams(model):\n",
    "    count = 0\n",
    "    for p in model.parameters():\n",
    "        n_params = np.prod(list(p.data.shape)).item()\n",
    "        count += n_params\n",
    "    return count\n",
    "\n",
    "def one_epoch(model, pbar_title='progress'):\n",
    "    '''Run a model for one_epoch, reporting final test_accuracy'''\n",
    "    criterion = nn.CrossEntropyLoss()\n",
    "    optimizer = optim.RMSprop(model.parameters())\n",
    "    \n",
    "    # train\n",
    "    model.train()\n",
    "    print(f'{pbar_title}: ', end='')\n",
    "    for i, data in enumerate(training_data_loader):\n",
    "        images, labels = data\n",
    "        optimizer.zero_grad()\n",
    "        # forward pass\n",
    "        output = model(images)\n",
    "        # calculate categorical cross entropy loss\n",
    "        loss = criterion(output, labels)\n",
    "        # backward pass\n",
    "        loss.backward()\n",
    "        optimizer.step()\n",
    "        # progress update after ~1/10 of an epoch\n",
    "        if i % 180 == 0: print('.',end='')\n",
    "    print()\n",
    "    \n",
    "    # validate\n",
    "    test_total = 0\n",
    "    test_correct = 0\n",
    "    with torch.no_grad():\n",
    "        model.eval()\n",
    "        for i, data in enumerate(test_data_loader):\n",
    "            images, labels = data\n",
    "            # forward pass\n",
    "            output = model(images)\n",
    "            # find accuracy\n",
    "            _, predicted = torch.max(output.data, 1)\n",
    "            test_total += labels.size(0)\n",
    "            test_correct += (predicted == labels).sum().item()\n",
    "            # find loss\n",
    "            loss = criterion(output, labels)\n",
    "            \n",
    "    return test_correct / test_total"
   ]
  },
  {
   "cell_type": "markdown",
   "metadata": {},
   "source": [
    "## Get accuracies for different dropout strengths"
   ]
  },
  {
   "cell_type": "code",
   "execution_count": null,
   "metadata": {},
   "outputs": [],
   "source": [
    "ps = np.arange(10) * 0.1 # No point in 1.0, all weights dropped\n",
    "test_accs = np.empty(10)\n",
    "for i, p in enumerate(ps):\n",
    "    # sample model\n",
    "    model = nn.Sequential(\n",
    "        nn.Conv2d(1, 32, kernel_size=(5,5)),\n",
    "        nn.ReLU(),\n",
    "        nn.MaxPool2d(2),\n",
    "        nn.Conv2d(32, 64, kernel_size=(5,5)),\n",
    "        nn.BatchNorm2d(64),\n",
    "        nn.ReLU(),\n",
    "        nn.MaxPool2d(2),\n",
    "        nn.Flatten(),\n",
    "        nn.Linear(4 * 4 * 64, 128),\n",
    "        nn.ReLU(),\n",
    "        nn.Dropout(p=p),\n",
    "        nn.Linear(128, 10),\n",
    "    )\n",
    "    test_accs[i] = one_epoch(model, pbar_title=f'Dropout {p}')\n",
    "\n",
    "print(dict(zip(ps, test_accs)))"
   ]
  },
  {
   "cell_type": "markdown",
   "metadata": {},
   "source": [
    "## Define final model and check nParams"
   ]
  },
  {
   "cell_type": "code",
   "execution_count": null,
   "metadata": {},
   "outputs": [],
   "source": [
    "p = 0.3\n",
    "model = nn.Sequential(\n",
    "        nn.Conv2d(1, 32, kernel_size=(5,5)),\n",
    "        nn.ReLU(),\n",
    "        nn.MaxPool2d(2),\n",
    "        nn.Conv2d(32, 64, kernel_size=(5,5)),\n",
    "        nn.BatchNorm2d(64),\n",
    "        nn.ReLU(),\n",
    "        nn.MaxPool2d(2),\n",
    "        nn.Flatten(),\n",
    "        nn.Linear(4 * 4 * 64, 128),\n",
    "        nn.ReLU(),\n",
    "        nn.Dropout(p=p),\n",
    "        nn.Linear(128, 10),\n",
    "    )\n",
    "nParams(model)"
   ]
  },
  {
   "cell_type": "markdown",
   "metadata": {},
   "source": [
    "## Train"
   ]
  },
  {
   "cell_type": "code",
   "execution_count": null,
   "metadata": {},
   "outputs": [],
   "source": [
    "# For a multi-class classification problem\n",
    "criterion = nn.CrossEntropyLoss()\n",
    "optimizer = optim.RMSprop(model.parameters())"
   ]
  },
  {
   "cell_type": "code",
   "execution_count": null,
   "metadata": {},
   "outputs": [],
   "source": [
    "# Train the model for 10 epochs, iterating on the data in batches\n",
    "n_epochs = 10\n",
    "\n",
    "# store metrics\n",
    "training_accuracy_history = np.zeros([n_epochs, 1])\n",
    "training_loss_history = np.zeros([n_epochs, 1])\n",
    "validation_accuracy_history = np.zeros([n_epochs, 1])\n",
    "validation_loss_history = np.zeros([n_epochs, 1])\n",
    "\n",
    "for epoch in range(n_epochs):\n",
    "    print(f'Epoch {epoch+1}/10:', end='')\n",
    "    train_total = 0\n",
    "    train_correct = 0\n",
    "    # train\n",
    "    model.train()\n",
    "    for i, data in enumerate(training_data_loader):\n",
    "        images, labels = data\n",
    "        optimizer.zero_grad()\n",
    "        # forward pass\n",
    "        output = model(images)\n",
    "        # calculate categorical cross entropy loss\n",
    "        loss = criterion(output, labels)\n",
    "        # backward pass\n",
    "        loss.backward()\n",
    "        optimizer.step()\n",
    "        \n",
    "        # track training accuracy\n",
    "        _, predicted = torch.max(output.data, 1)\n",
    "        train_total += labels.size(0)\n",
    "        train_correct += (predicted == labels).sum().item()\n",
    "        # track training loss\n",
    "        training_loss_history[epoch] += loss.item()\n",
    "        # progress update after 180 batches (~1/10 epoch for batch size 32)\n",
    "        if i % 180 == 0: print('.',end='')\n",
    "    training_loss_history[epoch] /= len(training_data_loader)\n",
    "    training_accuracy_history[epoch] = train_correct / train_total\n",
    "    print(f'\\n\\tloss: {training_loss_history[epoch,0]:0.4f}, acc: {training_accuracy_history[epoch,0]:0.4f}',end='')\n",
    "        \n",
    "    # validate\n",
    "    test_total = 0\n",
    "    test_correct = 0\n",
    "    with torch.no_grad():\n",
    "        model.eval()\n",
    "        for i, data in enumerate(test_data_loader):\n",
    "            images, labels = data\n",
    "            # forward pass\n",
    "            output = model(images)\n",
    "            # find accuracy\n",
    "            _, predicted = torch.max(output.data, 1)\n",
    "            test_total += labels.size(0)\n",
    "            test_correct += (predicted == labels).sum().item()\n",
    "            # find loss\n",
    "            loss = criterion(output, labels)\n",
    "            validation_loss_history[epoch] += loss.item()\n",
    "        validation_loss_history[epoch] /= len(test_data_loader)\n",
    "        validation_accuracy_history[epoch] = test_correct / test_total\n",
    "    print(f', val loss: {validation_loss_history[epoch,0]:0.4f}, val acc: {validation_accuracy_history[epoch,0]:0.4f}')"
   ]
  }
 ],
 "metadata": {
  "kernelspec": {
   "display_name": "neural",
   "language": "python",
   "name": "neural"
  },
  "language_info": {
   "codemirror_mode": {
    "name": "ipython",
    "version": 3
   },
   "file_extension": ".py",
   "mimetype": "text/x-python",
   "name": "python",
   "nbconvert_exporter": "python",
   "pygments_lexer": "ipython3",
   "version": "3.6.13"
  }
 },
 "nbformat": 4,
 "nbformat_minor": 4
}
